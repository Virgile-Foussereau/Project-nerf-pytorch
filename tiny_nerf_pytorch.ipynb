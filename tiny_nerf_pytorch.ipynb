{
  "cells": [
    {
      "cell_type": "markdown",
      "metadata": {
        "id": "lLDTVWKq7-ei"
      },
      "source": [
        "##Tiny NeRF\n",
        "This is a simplied version of the method presented in *NeRF: Representing Scenes as Neural Radiance Fields for View Synthesis*\n",
        "\n",
        "[Project Website](http://www.matthewtancik.com/nerf)\n",
        "\n",
        "[arXiv Paper](https://arxiv.org/abs/2003.08934)\n",
        "\n",
        "[Full Code](github.com/bmild/nerf)\n",
        "\n",
        "Components not included in the notebook\n",
        "*   5D input including view directions\n",
        "*   Hierarchical Sampling\n",
        "\n"
      ]
    },
    {
      "cell_type": "code",
      "execution_count": null,
      "metadata": {
        "id": "bZNXlxmEj0FC"
      },
      "outputs": [],
      "source": [
        "import os, sys\n",
        "import torch\n",
        "from torch import nn\n",
        "\n",
        "from tqdm.notebook import tqdm\n",
        "import numpy as np\n",
        "import matplotlib.pyplot as plt\n",
        "device = torch.device('cuda' if torch.cuda.is_available() else 'cpu')\n",
        "print(device)"
      ]
    },
    {
      "cell_type": "code",
      "execution_count": null,
      "metadata": {
        "id": "5mTxAwgrj4yn"
      },
      "outputs": [],
      "source": [
        "if not os.path.exists('tiny_nerf_data.npz'):\n",
        "    !wget http://cseweb.ucsd.edu/~viscomp/projects/LF/papers/ECCV20/nerf/tiny_nerf_data.npz"
      ]
    },
    {
      "cell_type": "markdown",
      "metadata": {
        "id": "t2dgdCDi-m3T"
      },
      "source": [
        "# Load Input Images and Poses"
      ]
    },
    {
      "cell_type": "code",
      "execution_count": null,
      "metadata": {
        "id": "jj1lof2ej0FI"
      },
      "outputs": [],
      "source": [
        "data = np.load('tiny_nerf_data.npz')\n",
        "images = data['images']\n",
        "poses = data['poses']\n",
        "focal = data['focal']\n",
        "H, W = images.shape[1:3]\n",
        "print(images.shape, poses.shape, focal)\n",
        "\n",
        "testimg, testpose = images[101], poses[101]\n",
        "images = images[:100,...,:3]\n",
        "poses = poses[:100]\n",
        "\n",
        "plt.imshow(testimg)\n",
        "plt.show()"
      ]
    },
    {
      "cell_type": "markdown",
      "metadata": {
        "id": "jxDt192E-v6i"
      },
      "source": [
        "# Optimize NeRF"
      ]
    },
    {
      "cell_type": "code",
      "execution_count": null,
      "metadata": {
        "id": "R1avtwVoAQTu"
      },
      "outputs": [],
      "source": [
        "\n",
        "\n",
        "def posenc(x):\n",
        "  rets = [x]\n",
        "  for i in range(L_embed):\n",
        "    for fn in [torch.sin, torch.cos]:\n",
        "      rets.append(fn(2.**i * x))\n",
        "  return torch.cat(rets, -1).to(device)\n",
        "\n",
        "L_embed = 6\n",
        "embed_fn = posenc\n",
        "# L_embed = 0\n",
        "# embed_fn = tf.identity\n",
        "  \n",
        "class NeRF(nn.Module):\n",
        "    def __init__(self, D=8, W=256):\n",
        "      super(NeRF, self).__init__()\n",
        "      inputSize = 3 + 3*2*L_embed\n",
        "      self.inputLayer = nn.Linear(inputSize, W)\n",
        "      self.hiddenLayers = nn.ModuleList() \n",
        "      for i in range(D-1):\n",
        "        if i%4==0 and i>0:\n",
        "          self.hiddenLayers.append(nn.Linear(W+inputSize, W))\n",
        "        else:\n",
        "          self.hiddenLayers.append(nn.Linear(W, W))\n",
        "      self.outputLayer = nn.Linear(W, 4)\n",
        "  \n",
        "    def forward(self, x):\n",
        "      x_initial = x\n",
        "      x = nn.functional.relu(self.inputLayer(x))\n",
        "      for i, layer in enumerate(self.hiddenLayers):\n",
        "        x = nn.functional.relu(layer(x))\n",
        "        if (i+1)%4 == 0 and i+1>0:\n",
        "          x = torch.cat([x, x_initial], dim=-1)\n",
        "      x=self.outputLayer(x)\n",
        "      return x\n",
        "\n",
        "\n",
        "def get_rays(H, W, focal, c2w):\n",
        "    c2w = torch.from_numpy(c2w).to(device)\n",
        "    focal = torch.from_numpy(focal).to(device)\n",
        "    i, j = torch.meshgrid(torch.arange(W, dtype=torch.float32, device=device), torch.arange(H, dtype=torch.float32, device=device), indexing=\"xy\")\n",
        "    dirs = torch.stack([(i-W*.5)/focal, -(j-H*.5)/focal, -torch.ones_like(i)], -1)\n",
        "    rays_d = torch.sum(dirs[..., np.newaxis, :] * c2w[:3,:3], -1)\n",
        "    rays_o = torch.broadcast_to(c2w[:3,-1], rays_d.size())\n",
        "    return rays_o, rays_d\n",
        "\n",
        "\n",
        "def render_rays(network_fn, rays_o, rays_d, near, far, N_samples, rand=False):\n",
        "\n",
        "    def batchify(fn, chunk=1024*32):\n",
        "        return lambda inputs : torch.cat([fn(inputs[i:i+chunk]) for i in range(0, inputs.size()[0], chunk)], 0)\n",
        "    \n",
        "    # Compute 3D query points\n",
        "    z_vals = torch.linspace(near, far, N_samples, device=device)\n",
        "    if rand:\n",
        "      z_vals = torch.broadcast_to(z_vals,list(rays_o.shape[:-1]) + [N_samples]).clone()\n",
        "      z_vals += torch.rand(list(rays_o.shape[:-1]) + [N_samples], device=device) * (far-near)/N_samples\n",
        "    pts = rays_o[...,None,:] + rays_d[...,None,:] * z_vals[...,:,None]\n",
        "\n",
        "    # Run network\n",
        "    pts_flat = torch.reshape(pts,(-1,3))\n",
        "    pts_flat = embed_fn(pts_flat)\n",
        "    raw = batchify(network_fn)(pts_flat)\n",
        "    raw = torch.reshape(raw, list(pts.size()[:-1]) + [4])\n",
        "    \n",
        "    # Compute opacities and colors\n",
        "    sigma_a = nn.functional.relu(raw[...,3])\n",
        "    rgb = torch.sigmoid(raw[...,:3]) \n",
        "    \n",
        "    # Do volume rendering\n",
        "    dists = torch.cat([z_vals[..., 1:] - z_vals[..., :-1], torch.full(z_vals[...,:1].shape, 1e10, device=device)], -1) \n",
        "    alpha = 1.-torch.exp(-sigma_a * dists)  \n",
        "    weights = torch.cumprod(1.-alpha + 1e-10, -1)\n",
        "    weights = torch.roll(weights, 1, -1)\n",
        "    weights[..., 0] = 1.\n",
        "    weights =  alpha * weights\n",
        "\n",
        "    rgb_map = torch.sum(weights[...,None] * rgb, -2) \n",
        "    depth_map = torch.sum(weights * z_vals, -1) \n",
        "    acc_map = torch.sum(weights, -1)\n",
        "\n",
        "    return rgb_map, depth_map, acc_map"
      ]
    },
    {
      "cell_type": "markdown",
      "metadata": {
        "id": "3TSAyVcKAiyI"
      },
      "source": [
        "Here we optimize the model. We plot a rendered holdout view and its PSNR every 50 iterations."
      ]
    },
    {
      "cell_type": "code",
      "execution_count": null,
      "metadata": {
        "id": "6XurcHoCj0FQ"
      },
      "outputs": [],
      "source": [
        "model = NeRF().to(device)\n",
        "lr = 5e-4\n",
        "optimizer = torch.optim.Adam(model.parameters(), lr=lr)\n",
        "\n",
        "N_samples = 64\n",
        "N_iters = 1000\n",
        "psnrs = []\n",
        "iternums = []\n",
        "i_plot = 25\n",
        "loss_f = torch.nn.MSELoss()\n",
        "\n",
        "import time\n",
        "t = time.time()\n",
        "for i in range(N_iters+1):\n",
        "    model.train()\n",
        "    img_i = np.random.randint(images.shape[0])\n",
        "    target = images[img_i]\n",
        "    pose = poses[img_i]\n",
        "    \n",
        "    target = torch.from_numpy(target).to(device)    \n",
        "    rays_o, rays_d = get_rays(H, W, focal, pose)\n",
        "\n",
        "    optimizer.zero_grad()\n",
        "    rgb, depth, acc = render_rays(model, rays_o, rays_d, near=2., far=6., N_samples=N_samples, rand=False)\n",
        "    loss = loss_f(rgb, target)\n",
        "    loss.backward()\n",
        "    optimizer.step()\n",
        "    \n",
        "    if i%i_plot==0:\n",
        "        model.eval()\n",
        "        print(i, (time.time() - t) / i_plot, 'secs per iter')\n",
        "        t = time.time()\n",
        "        \n",
        "        # Render the holdout view for logging\n",
        "        rays_o, rays_d = get_rays(H, W, focal, testpose)\n",
        "        rgb, depth, acc = render_rays(model, rays_o, rays_d, near=2., far=6., N_samples=N_samples)\n",
        "        loss = loss_f(rgb, torch.from_numpy(testimg).to(device))\n",
        "        psnr = -10. * torch.log10(loss)\n",
        "\n",
        "        psnrs.append(psnr.cpu().detach().numpy())\n",
        "        iternums.append(i)\n",
        "        \n",
        "        plt.figure(figsize=(10,4))\n",
        "        plt.subplot(121)\n",
        "        plt.imshow(rgb.cpu().detach().numpy())\n",
        "        plt.title(f'Iteration: {i}')\n",
        "        plt.subplot(122)\n",
        "        plt.plot(iternums, psnrs)\n",
        "        plt.title('PSNR')\n",
        "        plt.show()\n",
        "\n",
        "print('Done')"
      ]
    },
    {
      "cell_type": "markdown",
      "metadata": {
        "id": "bZLEFNox_UVK"
      },
      "source": [
        "# Interactive Visualization"
      ]
    },
    {
      "cell_type": "code",
      "execution_count": null,
      "metadata": {
        "id": "L92jHDI7j0FT"
      },
      "outputs": [],
      "source": [
        "%matplotlib inline\n",
        "from ipywidgets import interactive, widgets\n",
        "\n",
        "trans_t = lambda t : np.array([\n",
        "    [1,0,0,0],\n",
        "    [0,1,0,0],\n",
        "    [0,0,1,t],\n",
        "    [0,0,0,1],\n",
        "], dtype=np.float32)\n",
        "\n",
        "rot_phi = lambda phi : np.array([\n",
        "    [1,0,0,0],\n",
        "    [0,np.cos(phi),-np.sin(phi),0],\n",
        "    [0,np.sin(phi), np.cos(phi),0],\n",
        "    [0,0,0,1],\n",
        "], dtype=np.float32)\n",
        "\n",
        "rot_theta = lambda th : np.array([\n",
        "    [np.cos(th),0,-np.sin(th),0],\n",
        "    [0,1,0,0],\n",
        "    [np.sin(th),0, np.cos(th),0],\n",
        "    [0,0,0,1],\n",
        "], dtype=np.float32)\n",
        "\n",
        "def pose_spherical(theta, phi, radius):\n",
        "    c2w = trans_t(radius)\n",
        "    c2w = rot_phi(phi/180.*np.pi) @ c2w\n",
        "    c2w = rot_theta(theta/180.*np.pi) @ c2w\n",
        "    c2w = np.array([[-1,0,0,0],[0,0,1,0],[0,1,0,0],[0,0,0,1]], dtype=np.float32) @ c2w\n",
        "    return c2w\n",
        "\n",
        "\n",
        "def f(**kwargs):\n",
        "    c2w = pose_spherical(**kwargs)\n",
        "    rays_o, rays_d = get_rays(H, W, focal, c2w[:3,:4])\n",
        "    rgb, depth, acc = render_rays(model, rays_o, rays_d, near=2., far=6., N_samples=N_samples)\n",
        "    rgb = rgb.cpu().detach().numpy()\n",
        "    img = np.clip(rgb,0,1)\n",
        "    \n",
        "    plt.figure(2, figsize=(20,6))\n",
        "    plt.imshow(img)\n",
        "    plt.show()\n",
        "    \n",
        "\n",
        "sldr = lambda v, mi, ma: widgets.FloatSlider(\n",
        "    value=v,\n",
        "    min=mi,\n",
        "    max=ma,\n",
        "    step=.01,\n",
        ")\n",
        "\n",
        "names = [\n",
        "    ['theta', [100., 0., 360]],\n",
        "    ['phi', [-30., -90, 0]],\n",
        "    ['radius', [4., 3., 5.]],\n",
        "]\n",
        "\n",
        "interactive_plot = interactive(f, **{s[0] : sldr(*s[1]) for s in names})\n",
        "output = interactive_plot.children[-1]\n",
        "output.layout.height = '350px'\n",
        "interactive_plot"
      ]
    },
    {
      "cell_type": "markdown",
      "metadata": {
        "id": "PpKhAn2a__Iu"
      },
      "source": [
        "# Render 360 Video"
      ]
    },
    {
      "cell_type": "code",
      "execution_count": null,
      "metadata": {
        "id": "8Sg4aV0cmVPs"
      },
      "outputs": [],
      "source": [
        "frames = []\n",
        "for th in tqdm(np.linspace(0., 360., 120, endpoint=False)):\n",
        "    c2w = pose_spherical(th, -30., 4.)\n",
        "    rays_o, rays_d = get_rays(H, W, focal, c2w[:3,:4])\n",
        "    rgb, depth, acc = render_rays(model, rays_o, rays_d, near=2., far=6., N_samples=N_samples)\n",
        "    rgb = rgb.cpu().detach().numpy()\n",
        "    frames.append((255*np.clip(rgb,0,1)).astype(np.uint8))\n",
        "\n",
        "!pip install imageio-ffmpeg\n",
        "import imageio\n",
        "f = 'video.mp4'\n",
        "imageio.mimwrite(f, frames, fps=30, quality=7)"
      ]
    },
    {
      "cell_type": "code",
      "execution_count": null,
      "metadata": {
        "id": "OQ_ms-YMyFly"
      },
      "outputs": [],
      "source": [
        "from IPython.display import HTML\n",
        "from base64 import b64encode\n",
        "mp4 = open('video.mp4','rb').read()\n",
        "data_url = \"data:video/mp4;base64,\" + b64encode(mp4).decode()\n",
        "HTML(\"\"\"\n",
        "<video width=400 controls autoplay loop>\n",
        "      <source src=\"%s\" type=\"video/mp4\">\n",
        "</video>\n",
        "\"\"\" % data_url)"
      ]
    },
    {
      "cell_type": "code",
      "execution_count": null,
      "metadata": {
        "id": "GvR-v3uzCFYQ"
      },
      "outputs": [],
      "source": [
        "\n"
      ]
    },
    {
      "cell_type": "code",
      "execution_count": null,
      "metadata": {
        "id": "CT38DMfyCICr"
      },
      "outputs": [],
      "source": []
    }
  ],
  "metadata": {
    "accelerator": "GPU",
    "colab": {
      "provenance": []
    },
    "gpuClass": "standard",
    "kernelspec": {
      "display_name": "INF554",
      "language": "python",
      "name": "python3"
    },
    "language_info": {
      "name": "python",
      "version": "3.9.13"
    },
    "vscode": {
      "interpreter": {
        "hash": "693d9fa031ebe6d3f2c6244d39ef7f16e64fce60ab1fcc0674732e684efeda0d"
      }
    }
  },
  "nbformat": 4,
  "nbformat_minor": 0
}
